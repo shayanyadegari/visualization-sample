{
 "cells": [
  {
   "cell_type": "code",
   "execution_count": 586,
   "metadata": {},
   "outputs": [],
   "source": [
    "\n",
    "#(GDP) is the total monetary or market value of all the finished goods and services produced within a country\n",
    "#(ppp) Purchasing power parity\n",
    "#the goal is to show differentiation between GDP and PPP that said that GDP cannot be a good idea of economy of one country and its better to use ppp\n",
    "#GDP data sets from : https://data.worldbank.org/indicator/NY.GDP.MKTP.CD\n",
    "#PPP data sets from : https://data.worldbank.org/indicator/NY.GDP.MKTP.PP.CD"
   ]
  },
  {
   "cell_type": "code",
   "execution_count": 587,
   "metadata": {},
   "outputs": [],
   "source": [
    "#for the first step I import pandas that is the first liberary for our analyzing\n",
    "import pandas as pd\n",
    "import numpy as np"
   ]
  },
  {
   "cell_type": "code",
   "execution_count": 588,
   "metadata": {},
   "outputs": [],
   "source": [
    "#for ploting the charts I need matplot lib\n",
    "from matplotlib import pyplot as plt"
   ]
  },
  {
   "cell_type": "code",
   "execution_count": 589,
   "metadata": {},
   "outputs": [],
   "source": [
    "\n",
    "GDP_file = \"APIGDP.csv\"\n",
    "#as the header of the main file is not for our analyzing, I must skip the first row\n",
    "GDP = pd.read_csv(GDP_file, skiprows=3)"
   ]
  },
  {
   "cell_type": "code",
   "execution_count": 590,
   "metadata": {},
   "outputs": [
    {
     "name": "stdout",
     "output_type": "stream",
     "text": [
      "percent: 21.246297562087037\n"
     ]
    },
    {
     "data": {
      "text/plain": [
       "Country Name        0\n",
       "Country Code        0\n",
       "Indicator Name      0\n",
       "Indicator Code      0\n",
       "1960              134\n",
       "                 ... \n",
       "2017               12\n",
       "2018               12\n",
       "2019               19\n",
       "2020               41\n",
       "Unnamed: 65       266\n",
       "Length: 66, dtype: int64"
      ]
     },
     "execution_count": 590,
     "metadata": {},
     "output_type": "execute_result"
    }
   ],
   "source": [
    "#missing values\n",
    "missing_values_count = GDP.isnull().sum()\n",
    "total_cells = np.product(GDP.shape)\n",
    "total_missing = missing_values_count.sum()\n",
    "percent_missing = (total_missing/total_cells) * 100\n",
    "print(\"percent:\",percent_missing)\n",
    "missing_values_count"
   ]
  },
  {
   "cell_type": "code",
   "execution_count": 591,
   "metadata": {},
   "outputs": [],
   "source": [
    "#as you can see this data has some missing values lets do some changing in it\n",
    "#when we have the null row, i filled them with zero\n",
    "# the last columns also is not part of our data\n",
    "GDP = GDP.iloc[:, :-1]"
   ]
  },
  {
   "cell_type": "code",
   "execution_count": 592,
   "metadata": {},
   "outputs": [],
   "source": [
    "#just need years\n",
    "GDP = GDP.iloc[:,4:]\n",
    "#fill the null space with mean of the columns\n",
    "GDP=GDP.apply(lambda x: x.fillna(x.mean()),axis=0)"
   ]
  },
  {
   "cell_type": "code",
   "execution_count": 593,
   "metadata": {},
   "outputs": [],
   "source": [
    "#calculate sum of each ear\n",
    "gdp_years = GDP.iloc[:,4:].sum()\n",
    "\n",
    "#change series to data frame\n",
    "ff=pd.DataFrame(gdp_years)\n",
    "ff.reset_index(inplace=True)\n"
   ]
  },
  {
   "cell_type": "code",
   "execution_count": null,
   "metadata": {},
   "outputs": [],
   "source": []
  },
  {
   "cell_type": "code",
   "execution_count": 594,
   "metadata": {},
   "outputs": [
    {
     "data": {
      "text/plain": [
       "Text(0, 0.5, '10*terillion')"
      ]
     },
     "execution_count": 594,
     "metadata": {},
     "output_type": "execute_result"
    },
    {
     "data": {
      "image/png": "[encoded data removed]",
      "text/plain": [
       "<Figure size 432x288 with 1 Axes>"
      ]
     },
     "metadata": {
      "needs_background": "light"
     },
     "output_type": "display_data"
    }
   ],
   "source": [
    "\n",
    "ff.columns = ['year', 'GDP']\n",
    "ff.plot(x='year', y='GDP')\n",
    "plt.title(\"GDP\")\n",
    "plt.xlabel(\"years\")\n",
    "plt.ylabel('10*terillion')"
   ]
  },
  {
   "cell_type": "code",
   "execution_count": 595,
   "metadata": {},
   "outputs": [],
   "source": [
    "# lets check ppp datas too\n",
    "\n",
    "\n",
    "ppp_file = \"ppp.csv\"\n",
    "#as the header of the main file is not for our analyzing, I must skip the first row\n",
    "ppp = pd.read_csv(ppp_file, skiprows=3)\n"
   ]
  },
  {
   "cell_type": "code",
   "execution_count": 596,
   "metadata": {},
   "outputs": [
    {
     "name": "stdout",
     "output_type": "stream",
     "text": [
      "percent: 52.71132376395534\n"
     ]
    },
    {
     "data": {
      "text/plain": [
       "Country Name        0\n",
       "Country Code        0\n",
       "Indicator Name      0\n",
       "Indicator Code      0\n",
       "1960              266\n",
       "                 ... \n",
       "2017               24\n",
       "2018               25\n",
       "2019               26\n",
       "2020               40\n",
       "Unnamed: 65       266\n",
       "Length: 66, dtype: int64"
      ]
     },
     "execution_count": 596,
     "metadata": {},
     "output_type": "execute_result"
    }
   ],
   "source": [
    "#missing values\n",
    "missing_values_count = ppp.isnull().sum()\n",
    "total_cells = np.product(ppp.shape)\n",
    "total_missing = missing_values_count.sum()\n",
    "percent_missing = (total_missing/total_cells) * 100\n",
    "print(\"percent:\",percent_missing)\n",
    "missing_values_count\n"
   ]
  },
  {
   "cell_type": "code",
   "execution_count": 597,
   "metadata": {},
   "outputs": [
    {
     "data": {
      "text/html": [
       "<div>\n",
       "<style scoped>\n",
       "    .dataframe tbody tr th:only-of-type {\n",
       "        vertical-align: middle;\n",
       "    }\n",
       "\n",
       "    .dataframe tbody tr th {\n",
       "        vertical-align: top;\n",
       "    }\n",
       "\n",
       "    .dataframe thead th {\n",
       "        text-align: right;\n",
       "    }\n",
       "</style>\n",
       "<table border=\"1\" class=\"dataframe\">\n",
       "  <thead>\n",
       "    <tr style=\"text-align: right;\">\n",
       "      <th></th>\n",
       "      <th>1996</th>\n",
       "      <th>1997</th>\n",
       "      <th>1998</th>\n",
       "      <th>1999</th>\n",
       "      <th>2000</th>\n",
       "      <th>2001</th>\n",
       "      <th>2002</th>\n",
       "      <th>2003</th>\n",
       "      <th>2004</th>\n",
       "      <th>2005</th>\n",
       "      <th>...</th>\n",
       "      <th>2011</th>\n",
       "      <th>2012</th>\n",
       "      <th>2013</th>\n",
       "      <th>2014</th>\n",
       "      <th>2015</th>\n",
       "      <th>2016</th>\n",
       "      <th>2017</th>\n",
       "      <th>2018</th>\n",
       "      <th>2019</th>\n",
       "      <th>2020</th>\n",
       "    </tr>\n",
       "  </thead>\n",
       "  <tbody>\n",
       "    <tr>\n",
       "      <th>0</th>\n",
       "      <td>2.291760e+09</td>\n",
       "      <td>2.497126e+09</td>\n",
       "      <td>2.575533e+09</td>\n",
       "      <td>2.645066e+09</td>\n",
       "      <td>2.910163e+09</td>\n",
       "      <td>2.885630e+09</td>\n",
       "      <td>2.835314e+09</td>\n",
       "      <td>2.945022e+09</td>\n",
       "      <td>3.263578e+09</td>\n",
       "      <td>3.406103e+09</td>\n",
       "      <td>...</td>\n",
       "      <td>3.502846e+09</td>\n",
       "      <td>3.442856e+09</td>\n",
       "      <td>3.799467e+09</td>\n",
       "      <td>3.816822e+09</td>\n",
       "      <td>3.893071e+09</td>\n",
       "      <td>3.941354e+09</td>\n",
       "      <td>4.098240e+09</td>\n",
       "      <td>NaN</td>\n",
       "      <td>NaN</td>\n",
       "      <td>NaN</td>\n",
       "    </tr>\n",
       "    <tr>\n",
       "      <th>1</th>\n",
       "      <td>6.569573e+11</td>\n",
       "      <td>6.924614e+11</td>\n",
       "      <td>7.129604e+11</td>\n",
       "      <td>7.438152e+11</td>\n",
       "      <td>7.861309e+11</td>\n",
       "      <td>8.327718e+11</td>\n",
       "      <td>8.791800e+11</td>\n",
       "      <td>9.249348e+11</td>\n",
       "      <td>1.003061e+12</td>\n",
       "      <td>1.101190e+12</td>\n",
       "      <td>...</td>\n",
       "      <td>1.665053e+12</td>\n",
       "      <td>1.688579e+12</td>\n",
       "      <td>1.803609e+12</td>\n",
       "      <td>1.944269e+12</td>\n",
       "      <td>2.007743e+12</td>\n",
       "      <td>2.112429e+12</td>\n",
       "      <td>2.225871e+12</td>\n",
       "      <td>2.346368e+12</td>\n",
       "      <td>2.443914e+12</td>\n",
       "      <td>2.409235e+12</td>\n",
       "    </tr>\n",
       "    <tr>\n",
       "      <th>2</th>\n",
       "      <td>NaN</td>\n",
       "      <td>NaN</td>\n",
       "      <td>NaN</td>\n",
       "      <td>NaN</td>\n",
       "      <td>NaN</td>\n",
       "      <td>NaN</td>\n",
       "      <td>1.982120e+10</td>\n",
       "      <td>2.197247e+10</td>\n",
       "      <td>2.288310e+10</td>\n",
       "      <td>2.624565e+10</td>\n",
       "      <td>...</td>\n",
       "      <td>5.118418e+10</td>\n",
       "      <td>5.966700e+10</td>\n",
       "      <td>6.503984e+10</td>\n",
       "      <td>6.905834e+10</td>\n",
       "      <td>7.183170e+10</td>\n",
       "      <td>7.009796e+10</td>\n",
       "      <td>7.471192e+10</td>\n",
       "      <td>7.741557e+10</td>\n",
       "      <td>8.187980e+10</td>\n",
       "      <td>8.126822e+10</td>\n",
       "    </tr>\n",
       "    <tr>\n",
       "      <th>3</th>\n",
       "      <td>4.341067e+11</td>\n",
       "      <td>4.585602e+11</td>\n",
       "      <td>4.804687e+11</td>\n",
       "      <td>4.950455e+11</td>\n",
       "      <td>5.242341e+11</td>\n",
       "      <td>5.659416e+11</td>\n",
       "      <td>6.316423e+11</td>\n",
       "      <td>6.813865e+11</td>\n",
       "      <td>7.551994e+11</td>\n",
       "      <td>8.252540e+11</td>\n",
       "      <td>...</td>\n",
       "      <td>1.299277e+12</td>\n",
       "      <td>1.374238e+12</td>\n",
       "      <td>1.500811e+12</td>\n",
       "      <td>1.606600e+12</td>\n",
       "      <td>1.653464e+12</td>\n",
       "      <td>1.671093e+12</td>\n",
       "      <td>1.737270e+12</td>\n",
       "      <td>1.834075e+12</td>\n",
       "      <td>1.929577e+12</td>\n",
       "      <td>1.937524e+12</td>\n",
       "    </tr>\n",
       "    <tr>\n",
       "      <th>4</th>\n",
       "      <td>4.271806e+10</td>\n",
       "      <td>4.664493e+10</td>\n",
       "      <td>4.938274e+10</td>\n",
       "      <td>5.118856e+10</td>\n",
       "      <td>5.393144e+10</td>\n",
       "      <td>5.743249e+10</td>\n",
       "      <td>6.631363e+10</td>\n",
       "      <td>6.956464e+10</td>\n",
       "      <td>7.926191e+10</td>\n",
       "      <td>9.401414e+10</td>\n",
       "      <td>...</td>\n",
       "      <td>1.625388e+11</td>\n",
       "      <td>1.861242e+11</td>\n",
       "      <td>1.998656e+11</td>\n",
       "      <td>2.203648e+11</td>\n",
       "      <td>2.046036e+11</td>\n",
       "      <td>2.048747e+11</td>\n",
       "      <td>2.179873e+11</td>\n",
       "      <td>2.187486e+11</td>\n",
       "      <td>2.212628e+11</td>\n",
       "      <td>2.148945e+11</td>\n",
       "    </tr>\n",
       "    <tr>\n",
       "      <th>...</th>\n",
       "      <td>...</td>\n",
       "      <td>...</td>\n",
       "      <td>...</td>\n",
       "      <td>...</td>\n",
       "      <td>...</td>\n",
       "      <td>...</td>\n",
       "      <td>...</td>\n",
       "      <td>...</td>\n",
       "      <td>...</td>\n",
       "      <td>...</td>\n",
       "      <td>...</td>\n",
       "      <td>...</td>\n",
       "      <td>...</td>\n",
       "      <td>...</td>\n",
       "      <td>...</td>\n",
       "      <td>...</td>\n",
       "      <td>...</td>\n",
       "      <td>...</td>\n",
       "      <td>...</td>\n",
       "      <td>...</td>\n",
       "      <td>...</td>\n",
       "    </tr>\n",
       "    <tr>\n",
       "      <th>261</th>\n",
       "      <td>NaN</td>\n",
       "      <td>NaN</td>\n",
       "      <td>NaN</td>\n",
       "      <td>NaN</td>\n",
       "      <td>6.053709e+09</td>\n",
       "      <td>7.855231e+09</td>\n",
       "      <td>7.923550e+09</td>\n",
       "      <td>8.553338e+09</td>\n",
       "      <td>9.013051e+09</td>\n",
       "      <td>9.854519e+09</td>\n",
       "      <td>...</td>\n",
       "      <td>1.472601e+10</td>\n",
       "      <td>1.531969e+10</td>\n",
       "      <td>1.600921e+10</td>\n",
       "      <td>1.639322e+10</td>\n",
       "      <td>1.712333e+10</td>\n",
       "      <td>1.788597e+10</td>\n",
       "      <td>1.886012e+10</td>\n",
       "      <td>2.004942e+10</td>\n",
       "      <td>2.141584e+10</td>\n",
       "      <td>2.018226e+10</td>\n",
       "    </tr>\n",
       "    <tr>\n",
       "      <th>262</th>\n",
       "      <td>3.927557e+10</td>\n",
       "      <td>4.206917e+10</td>\n",
       "      <td>4.509807e+10</td>\n",
       "      <td>4.747647e+10</td>\n",
       "      <td>5.153836e+10</td>\n",
       "      <td>5.467215e+10</td>\n",
       "      <td>5.772244e+10</td>\n",
       "      <td>6.099767e+10</td>\n",
       "      <td>6.512834e+10</td>\n",
       "      <td>7.091231e+10</td>\n",
       "      <td>...</td>\n",
       "      <td>8.587612e+10</td>\n",
       "      <td>8.544086e+10</td>\n",
       "      <td>9.275561e+10</td>\n",
       "      <td>NaN</td>\n",
       "      <td>NaN</td>\n",
       "      <td>NaN</td>\n",
       "      <td>NaN</td>\n",
       "      <td>NaN</td>\n",
       "      <td>NaN</td>\n",
       "      <td>NaN</td>\n",
       "    </tr>\n",
       "    <tr>\n",
       "      <th>263</th>\n",
       "      <td>2.953692e+11</td>\n",
       "      <td>3.084678e+11</td>\n",
       "      <td>3.134994e+11</td>\n",
       "      <td>3.256583e+11</td>\n",
       "      <td>3.469217e+11</td>\n",
       "      <td>3.641035e+11</td>\n",
       "      <td>3.835491e+11</td>\n",
       "      <td>4.021932e+11</td>\n",
       "      <td>4.318324e+11</td>\n",
       "      <td>4.687816e+11</td>\n",
       "      <td>...</td>\n",
       "      <td>6.330111e+11</td>\n",
       "      <td>6.370338e+11</td>\n",
       "      <td>6.684577e+11</td>\n",
       "      <td>6.829547e+11</td>\n",
       "      <td>6.952285e+11</td>\n",
       "      <td>7.077438e+11</td>\n",
       "      <td>7.241007e+11</td>\n",
       "      <td>7.473222e+11</td>\n",
       "      <td>7.618236e+11</td>\n",
       "      <td>7.173894e+11</td>\n",
       "    </tr>\n",
       "    <tr>\n",
       "      <th>264</th>\n",
       "      <td>1.427369e+10</td>\n",
       "      <td>1.508306e+10</td>\n",
       "      <td>1.519399e+10</td>\n",
       "      <td>1.613011e+10</td>\n",
       "      <td>1.713339e+10</td>\n",
       "      <td>1.844014e+10</td>\n",
       "      <td>1.957588e+10</td>\n",
       "      <td>2.132421e+10</td>\n",
       "      <td>2.343827e+10</td>\n",
       "      <td>2.591709e+10</td>\n",
       "      <td>...</td>\n",
       "      <td>4.661224e+10</td>\n",
       "      <td>4.950870e+10</td>\n",
       "      <td>5.341984e+10</td>\n",
       "      <td>5.450659e+10</td>\n",
       "      <td>5.447260e+10</td>\n",
       "      <td>5.571221e+10</td>\n",
       "      <td>5.873519e+10</td>\n",
       "      <td>6.257191e+10</td>\n",
       "      <td>6.460717e+10</td>\n",
       "      <td>6.341747e+10</td>\n",
       "    </tr>\n",
       "    <tr>\n",
       "      <th>265</th>\n",
       "      <td>2.490157e+10</td>\n",
       "      <td>2.602629e+10</td>\n",
       "      <td>2.707859e+10</td>\n",
       "      <td>2.724490e+10</td>\n",
       "      <td>2.700185e+10</td>\n",
       "      <td>2.799136e+10</td>\n",
       "      <td>2.590518e+10</td>\n",
       "      <td>2.190190e+10</td>\n",
       "      <td>2.118534e+10</td>\n",
       "      <td>2.059765e+10</td>\n",
       "      <td>...</td>\n",
       "      <td>2.710160e+10</td>\n",
       "      <td>3.116064e+10</td>\n",
       "      <td>3.418729e+10</td>\n",
       "      <td>3.549468e+10</td>\n",
       "      <td>3.701644e+10</td>\n",
       "      <td>3.937571e+10</td>\n",
       "      <td>4.661933e+10</td>\n",
       "      <td>4.940814e+10</td>\n",
       "      <td>4.621665e+10</td>\n",
       "      <td>4.303435e+10</td>\n",
       "    </tr>\n",
       "  </tbody>\n",
       "</table>\n",
       "<p>266 rows × 25 columns</p>\n",
       "</div>"
      ],
      "text/plain": [
       "             1996          1997          1998          1999          2000  \\\n",
       "0    2.291760e+09  2.497126e+09  2.575533e+09  2.645066e+09  2.910163e+09   \n",
       "1    6.569573e+11  6.924614e+11  7.129604e+11  7.438152e+11  7.861309e+11   \n",
       "2             NaN           NaN           NaN           NaN           NaN   \n",
       "3    4.341067e+11  4.585602e+11  4.804687e+11  4.950455e+11  5.242341e+11   \n",
       "4    4.271806e+10  4.664493e+10  4.938274e+10  5.118856e+10  5.393144e+10   \n",
       "..            ...           ...           ...           ...           ...   \n",
       "261           NaN           NaN           NaN           NaN  6.053709e+09   \n",
       "262  3.927557e+10  4.206917e+10  4.509807e+10  4.747647e+10  5.153836e+10   \n",
       "263  2.953692e+11  3.084678e+11  3.134994e+11  3.256583e+11  3.469217e+11   \n",
       "264  1.427369e+10  1.508306e+10  1.519399e+10  1.613011e+10  1.713339e+10   \n",
       "265  2.490157e+10  2.602629e+10  2.707859e+10  2.724490e+10  2.700185e+10   \n",
       "\n",
       "             2001          2002          2003          2004          2005  \\\n",
       "0    2.885630e+09  2.835314e+09  2.945022e+09  3.263578e+09  3.406103e+09   \n",
       "1    8.327718e+11  8.791800e+11  9.249348e+11  1.003061e+12  1.101190e+12   \n",
       "2             NaN  1.982120e+10  2.197247e+10  2.288310e+10  2.624565e+10   \n",
       "3    5.659416e+11  6.316423e+11  6.813865e+11  7.551994e+11  8.252540e+11   \n",
       "4    5.743249e+10  6.631363e+10  6.956464e+10  7.926191e+10  9.401414e+10   \n",
       "..            ...           ...           ...           ...           ...   \n",
       "261  7.855231e+09  7.923550e+09  8.553338e+09  9.013051e+09  9.854519e+09   \n",
       "262  5.467215e+10  5.772244e+10  6.099767e+10  6.512834e+10  7.091231e+10   \n",
       "263  3.641035e+11  3.835491e+11  4.021932e+11  4.318324e+11  4.687816e+11   \n",
       "264  1.844014e+10  1.957588e+10  2.132421e+10  2.343827e+10  2.591709e+10   \n",
       "265  2.799136e+10  2.590518e+10  2.190190e+10  2.118534e+10  2.059765e+10   \n",
       "\n",
       "     ...          2011          2012          2013          2014  \\\n",
       "0    ...  3.502846e+09  3.442856e+09  3.799467e+09  3.816822e+09   \n",
       "1    ...  1.665053e+12  1.688579e+12  1.803609e+12  1.944269e+12   \n",
       "2    ...  5.118418e+10  5.966700e+10  6.503984e+10  6.905834e+10   \n",
       "3    ...  1.299277e+12  1.374238e+12  1.500811e+12  1.606600e+12   \n",
       "4    ...  1.625388e+11  1.861242e+11  1.998656e+11  2.203648e+11   \n",
       "..   ...           ...           ...           ...           ...   \n",
       "261  ...  1.472601e+10  1.531969e+10  1.600921e+10  1.639322e+10   \n",
       "262  ...  8.587612e+10  8.544086e+10  9.275561e+10           NaN   \n",
       "263  ...  6.330111e+11  6.370338e+11  6.684577e+11  6.829547e+11   \n",
       "264  ...  4.661224e+10  4.950870e+10  5.341984e+10  5.450659e+10   \n",
       "265  ...  2.710160e+10  3.116064e+10  3.418729e+10  3.549468e+10   \n",
       "\n",
       "             2015          2016          2017          2018          2019  \\\n",
       "0    3.893071e+09  3.941354e+09  4.098240e+09           NaN           NaN   \n",
       "1    2.007743e+12  2.112429e+12  2.225871e+12  2.346368e+12  2.443914e+12   \n",
       "2    7.183170e+10  7.009796e+10  7.471192e+10  7.741557e+10  8.187980e+10   \n",
       "3    1.653464e+12  1.671093e+12  1.737270e+12  1.834075e+12  1.929577e+12   \n",
       "4    2.046036e+11  2.048747e+11  2.179873e+11  2.187486e+11  2.212628e+11   \n",
       "..            ...           ...           ...           ...           ...   \n",
       "261  1.712333e+10  1.788597e+10  1.886012e+10  2.004942e+10  2.141584e+10   \n",
       "262           NaN           NaN           NaN           NaN           NaN   \n",
       "263  6.952285e+11  7.077438e+11  7.241007e+11  7.473222e+11  7.618236e+11   \n",
       "264  5.447260e+10  5.571221e+10  5.873519e+10  6.257191e+10  6.460717e+10   \n",
       "265  3.701644e+10  3.937571e+10  4.661933e+10  4.940814e+10  4.621665e+10   \n",
       "\n",
       "             2020  \n",
       "0             NaN  \n",
       "1    2.409235e+12  \n",
       "2    8.126822e+10  \n",
       "3    1.937524e+12  \n",
       "4    2.148945e+11  \n",
       "..            ...  \n",
       "261  2.018226e+10  \n",
       "262           NaN  \n",
       "263  7.173894e+11  \n",
       "264  6.341747e+10  \n",
       "265  4.303435e+10  \n",
       "\n",
       "[266 rows x 25 columns]"
      ]
     },
     "execution_count": 597,
     "metadata": {},
     "output_type": "execute_result"
    }
   ],
   "source": [
    "#as you can see this data has some missing values lets do some changing in it\n",
    "#when we have the null row, i filled them with zero\n",
    "# the last columns also is not part of our data\n",
    "ppp = ppp.iloc[:, :-1]\n",
    "#in this data set as we dont have any data in early 1960 lets drop these columns also we dont need name of countries\n",
    "ppp=ppp.drop(ppp.columns[:40],axis=1)\n",
    "ppp"
   ]
  },
  {
   "cell_type": "code",
   "execution_count": 598,
   "metadata": {},
   "outputs": [],
   "source": [
    "#just need years\n",
    "#fill the null space with mean of the columns\n",
    "ppp=ppp.apply(lambda x: x.fillna(x.mean()),axis=0)"
   ]
  },
  {
   "cell_type": "code",
   "execution_count": 599,
   "metadata": {},
   "outputs": [],
   "source": [
    "#calculate sum of each ear\n",
    "ppp_years = ppp.iloc[:,:].sum()\n",
    "\n",
    "#change series to data frame\n",
    "ppp_df=pd.DataFrame(ppp_years)\n",
    "ppp_df.reset_index(inplace=True)"
   ]
  },
  {
   "cell_type": "code",
   "execution_count": 600,
   "metadata": {},
   "outputs": [
    {
     "data": {
      "text/plain": [
       "Text(0, 0.5, '10*terillion')"
      ]
     },
     "execution_count": 600,
     "metadata": {},
     "output_type": "execute_result"
    },
    {
     "data": {
      "image/png": "[encoded data removed]",
      "text/plain": [
       "<Figure size 432x288 with 1 Axes>"
      ]
     },
     "metadata": {
      "needs_background": "light"
     },
     "output_type": "display_data"
    }
   ],
   "source": [
    "ppp_df.columns = ['year', 'ppp']\n",
    "ppp_df.plot(x='year', y='ppp')\n",
    "plt.title(\"PPP\")\n",
    "plt.xlabel(\"years\")\n",
    "plt.ylabel('10*terillion')"
   ]
  },
  {
   "cell_type": "code",
   "execution_count": 601,
   "metadata": {},
   "outputs": [],
   "source": [
    "#compare these two charts\n",
    "import seaborn as sns"
   ]
  },
  {
   "cell_type": "code",
   "execution_count": 602,
   "metadata": {},
   "outputs": [],
   "source": [
    "#combining them\n",
    "ff = ff.set_index('year')\n",
    "ppp_df = ppp_df.set_index('year')\n",
    "bigdata = pd.concat([ff, ppp_df], axis=1)\n"
   ]
  },
  {
   "cell_type": "code",
   "execution_count": 603,
   "metadata": {},
   "outputs": [],
   "source": [
    "bigdata = bigdata.dropna(axis=0)"
   ]
  },
  {
   "cell_type": "code",
   "execution_count": 604,
   "metadata": {},
   "outputs": [
    {
     "data": {
      "text/plain": [
       "Text(0, 0.5, '10*terillion')"
      ]
     },
     "execution_count": 604,
     "metadata": {},
     "output_type": "execute_result"
    },
    {
     "data": {
      "image/png": "[encoded data removed]",
      "text/plain": [
       "<Figure size 432x288 with 1 Axes>"
      ]
     },
     "metadata": {
      "needs_background": "light"
     },
     "output_type": "display_data"
    }
   ],
   "source": [
    "sns.lineplot(data=bigdata)\n",
    "plt.title(\"DGP vs PPP\")\n",
    "plt.xlabel(\"year\")\n",
    "plt.ylabel(\"10*terillion\")"
   ]
  },
  {
   "cell_type": "code",
   "execution_count": 605,
   "metadata": {},
   "outputs": [],
   "source": [
    "# as you can see gdps in the large scale can not provide info about level of people life and it could be better idea to use ppp \n",
    "#instead of GDP"
   ]
  }
 ],
 "metadata": {
  "kernelspec": {
   "display_name": "Python 3",
   "language": "python",
   "name": "python3"
  },
  "language_info": {
   "codemirror_mode": {
    "name": "ipython",
    "version": 3
   },
   "file_extension": ".py",
   "mimetype": "text/x-python",
   "name": "python",
   "nbconvert_exporter": "python",
   "pygments_lexer": "ipython3",
   "version": "3.8.5"
  }
 },
 "nbformat": 4,
 "nbformat_minor": 4
}
